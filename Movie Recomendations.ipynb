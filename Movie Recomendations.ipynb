{
 "cells": [
  {
   "cell_type": "code",
   "execution_count": null,
   "id": "fe8ec2d9",
   "metadata": {
    "scrolled": true
   },
   "outputs": [],
   "source": [
    "#Importing Libraries\n",
    "\n",
    "import pandas as pd\n",
    "import numpy as np"
   ]
  },
  {
   "cell_type": "code",
   "execution_count": null,
   "id": "fadef249",
   "metadata": {},
   "outputs": [],
   "source": [
    "#Loading Data \n",
    "\n",
    "credits = pd.read_csv(\"tmdb_5000_credits.csv\")\n",
    "movies = pd.read_csv(\"tmdb_5000_movies.csv\")\n",
    "print(\"credits:\",credits.shape)\n",
    "print(\"movies:\",movies.shape)\n",
    "print(credits.head())\n",
    "print(movies.head())"
   ]
  },
  {
   "cell_type": "code",
   "execution_count": null,
   "id": "bee6c1aa",
   "metadata": {
    "scrolled": true
   },
   "outputs": [],
   "source": [
    "#changeing the column name of movie_id in credits table to id.\n",
    "#join both the tables on the common column of \"id\".\n",
    "\n",
    "Credits_Column_Renamed= credits.rename(index=str, columns={\"movie_id\":\"id\"})\n",
    "merged_movies= movies.merge(Credits_Column_Renamed, on=\"id\")\n",
    "print(merged_movies.head())"
   ]
  },
  {
   "cell_type": "code",
   "execution_count": null,
   "id": "1070f479",
   "metadata": {},
   "outputs": [],
   "source": [
    "#In the new merged table Three columns have the same data title_x,title_y,orignal_title so we drop 2 of them.\n",
    "#The status, production_countries and homepage columns are not of use so we drop them.\n",
    "\n",
    "movies_cleaned=merged_movies.drop(columns=[\"title_x\",\"title_y\",\"production_countries\",\"status\",\"homepage\"])\n",
    "print(movies_cleaned.head())\n",
    "print(movies_cleaned.info())"
   ]
  },
  {
   "cell_type": "markdown",
   "id": "0037f4b1",
   "metadata": {},
   "source": [
    "# Content Based Recommender System\n",
    "I am creating a Recommender system based on the Overview column of the movies, i.e if the user gives a movies name to us we can provide movies which have similar plot summaries.\n",
    "\n",
    "For this I am going to use tf-idf Statistical method(refer: https://www.geeksforgeeks.org/understanding-tf-idf-term-frequency-inverse-document-frequency/) on the overview column to generate a matrix of important words. Then Using the sigmoid kernel generate a matrix of the degree of similarity between movies."
   ]
  },
  {
   "cell_type": "markdown",
   "id": "c0fced56",
   "metadata": {},
   "source": [
    "\"tvf.fit_transform()\" Fits the TfidfVectorizer to the preprocessed 'overview' text and transforms it into a TF-IDF matrix. This matrix represents the importance of each word or n-gram in each document (movie overview) within the dataset.\n",
    "The resultant matrix can be read in the following way:\n",
    "-The first value in each tuple (i, j) represents the row index (document index, i.e., movie index).\n",
    "-The second value represents the column index corresponding to a unique word or n-gram in the vocabulary.\n",
    "-The third value is the TF-IDF score for the term at that row (document) and column (word or n-gram).\n",
    "\n",
    "note:This representation is a compact way of storing the TF-IDF matrix, focusing only on the non-zero entries to save memory."
   ]
  },
  {
   "cell_type": "code",
   "execution_count": null,
   "id": "2f0378f3",
   "metadata": {},
   "outputs": [],
   "source": [
    "from sklearn.feature_extraction.text import TfidfVectorizer\n",
    "tfv= TfidfVectorizer(min_df=3, max_features=None, strip_accents='unicode', analyzer='word', token_pattern=r'\\w{1,}', ngram_range=(1,3), stop_words='english')\n",
    "\n",
    "# Fitting the TF-IDF on the 'overview' text\n",
    "tfv_matrix = tfv.fit_transform(movies_cleaned['overview'].apply(lambda x: np.str_(x)))\n",
    "print(tfv_matrix)\n",
    "print(tfv_matrix.shape)"
   ]
  },
  {
   "cell_type": "markdown",
   "id": "0116164c",
   "metadata": {},
   "source": [
    "# Sigmoid kernal\n",
    "\n",
    "The sigmoid kernel is a type of kernel function commonly used in machine learning, particularly in the context of support vector machines (SVMs) and kernelized methods. Kernels are mathematical functions that measure the similarity between pairs of data points. The sigmoid kernel is defined as:\n",
    "K(x,y)=tanh(α⋅(x^T)y+c)\n",
    "Here:\n",
    "-x and y are the input vectors.\n",
    "-α is a scaling parameter.\n",
    "-c is a constant.\n",
    "The \n",
    "tanh\n",
    "⁡\n",
    "tanh function is the hyperbolic tangent function, and (x^T)y is the dot product of the vectors x and y. The purpose of the tanh function is to squash the output into the range [-1,1].\n",
    "In the context of similarity or kernelized methods, the sigmoid kernel measures the similarity between two vectors based on the hyperbolic tangent of a scaled dot product. It is often used when the input data is not linearly separable, and the kernelized method aims to find a decision boundary in a higher-dimensional space.\n",
    "\n",
    "The sigmoid kernel is used here to capture non-linear relationships and measure the similarity between pairs of movies based on their TF-IDF representations of overviews. The resulting sig matrix is used for identifying similar movies. Higher values in the matrix indicate higher similarity between the corresponding movies."
   ]
  },
  {
   "cell_type": "code",
   "execution_count": null,
   "id": "8be36fc2",
   "metadata": {},
   "outputs": [],
   "source": [
    "from sklearn.metrics.pairwise import sigmoid_kernel\n",
    "\n",
    "sig = sigmoid_kernel(tfv_matrix, tfv_matrix)\n",
    "\n",
    "#Prints the first row of the similarity matrix. \n",
    "#It showes the similarity values between the first movie (index 0) and all other movies in the dataset.\n",
    "print(sig[0])\n",
    "\n",
    "#Each row in the \"sig\" matrix corresponds to a movie, and the values indicate the similarity between the corresponding movie and all other movies in the dataset. Higher values imply higher similarity."
   ]
  },
  {
   "cell_type": "markdown",
   "id": "42252181",
   "metadata": {},
   "source": [
    "# Mapping indices and movie names"
   ]
  },
  {
   "cell_type": "code",
   "execution_count": null,
   "id": "27d3f450",
   "metadata": {},
   "outputs": [],
   "source": [
    "#first create a dataframe where the index is the 'orignal title' column from movies_cleaned df,\n",
    "#the next column is the index column of movies_cleaned,drop duplicate movies so that no movie is repeated.\n",
    "indices = pd.Series(movies_cleaned.index, index=movies_cleaned['original_title']).drop_duplicates()\n",
    "print(indices)\n",
    "\n",
    "#now apply sig[] on a index of a movie\n",
    "#and when the resultant list is reversed we get a list of movies that are most similar to the one we entered in a descending order.\n",
    "print(indices['Newlyweds'])\n",
    "print(sig[4799])\n",
    "print(list(enumerate(sig[indices['Newlyweds']])))\n",
    "print(sorted(list(enumerate(sig[indices['Newlyweds']])), key=lambda x: x[1], reverse=True))"
   ]
  },
  {
   "cell_type": "code",
   "execution_count": null,
   "id": "90f4df1e",
   "metadata": {},
   "outputs": [],
   "source": [
    "def give_recomendations(title, sig=sig):\n",
    "   \n",
    "    #get index of the movie and convert the matrix with pairwise similarity scores to a list \n",
    "    idx = indices[title]\n",
    "    sig_scores = list(enumerate(sig[idx]))\n",
    "    #sort the list\n",
    "    sig_scores = sorted(sig_scores, key=lambda x: x[1], reverse=True)\n",
    "    #get scores of the 10 most similar movies and their indices\n",
    "    sig_scores = sig_scores[1:11]\n",
    "    movie_indices = [i[0] for i in sig_scores]\n",
    "\n",
    "    # Top 10 most similar movies\n",
    "    return movies_cleaned['original_title'].iloc[movie_indices]"
   ]
  },
  {
   "cell_type": "code",
   "execution_count": null,
   "id": "e6d6bcc5",
   "metadata": {},
   "outputs": [],
   "source": [
    "print(give_recomendations('Avatar'))"
   ]
  },
  {
   "cell_type": "code",
   "execution_count": null,
   "id": "9e0583f3",
   "metadata": {},
   "outputs": [],
   "source": []
  }
 ],
 "metadata": {
  "kernelspec": {
   "display_name": "Python 3 (ipykernel)",
   "language": "python",
   "name": "python3"
  },
  "language_info": {
   "codemirror_mode": {
    "name": "ipython",
    "version": 3
   },
   "file_extension": ".py",
   "mimetype": "text/x-python",
   "name": "python",
   "nbconvert_exporter": "python",
   "pygments_lexer": "ipython3",
   "version": "3.9.13"
  }
 },
 "nbformat": 4,
 "nbformat_minor": 5
}
